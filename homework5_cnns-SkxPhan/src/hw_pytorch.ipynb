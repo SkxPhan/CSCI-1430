{
 "cells": [
  {
   "cell_type": "markdown",
   "id": "6003c4db-e8c7-47ae-be83-22cce0f3ca8b",
   "metadata": {},
   "source": [
    "# 1. Test CPU"
   ]
  },
  {
   "cell_type": "code",
   "execution_count": 1,
   "id": "27bf75bf-da38-4624-8a63-b933a415f31b",
   "metadata": {},
   "outputs": [],
   "source": [
    "import torch\n",
    "device = torch.device('cpu')\n",
    "x = torch.rand((20000, 20000), dtype=torch.float32)\n",
    "y = torch.rand((20000, 20000), dtype=torch.float32)\n",
    "x = x.to(device)\n",
    "y = y.to(device)"
   ]
  },
  {
   "cell_type": "code",
   "execution_count": 2,
   "id": "b0d142d0-9fe4-4327-acca-36926c802dfd",
   "metadata": {},
   "outputs": [
    {
     "name": "stdout",
     "output_type": "stream",
     "text": [
      "101 ms ± 378 μs per loop (mean ± std. dev. of 7 runs, 10 loops each)\n"
     ]
    }
   ],
   "source": [
    "%%timeit\n",
    "x * y"
   ]
  },
  {
   "cell_type": "markdown",
   "id": "41c0a184-cf05-4a06-a5e9-8168ab867ae2",
   "metadata": {},
   "source": [
    "# 2. Test GPU"
   ]
  },
  {
   "cell_type": "code",
   "execution_count": 3,
   "id": "1f567ff4-fd8f-43e6-abca-465cd3772092",
   "metadata": {},
   "outputs": [],
   "source": [
    "import torch\n",
    "device = torch.device('mps')\n",
    "x = torch.rand((20000, 20000), dtype=torch.float32)\n",
    "y = torch.rand((20000, 20000), dtype=torch.float32)\n",
    "x = x.to(device)\n",
    "y = y.to(device)"
   ]
  },
  {
   "cell_type": "code",
   "execution_count": 4,
   "id": "aaef3d61-652a-4105-88f4-6c7e3cf7a976",
   "metadata": {},
   "outputs": [
    {
     "name": "stdout",
     "output_type": "stream",
     "text": [
      "69.9 ms ± 1.93 ms per loop (mean ± std. dev. of 7 runs, 100 loops each)\n"
     ]
    }
   ],
   "source": [
    "%%timeit\n",
    "x * y"
   ]
  }
 ],
 "metadata": {
  "kernelspec": {
   "display_name": "Python 3 (ipykernel)",
   "language": "python",
   "name": "python3"
  },
  "language_info": {
   "codemirror_mode": {
    "name": "ipython",
    "version": 3
   },
   "file_extension": ".py",
   "mimetype": "text/x-python",
   "name": "python",
   "nbconvert_exporter": "python",
   "pygments_lexer": "ipython3",
   "version": "3.12.2"
  }
 },
 "nbformat": 4,
 "nbformat_minor": 5
}
